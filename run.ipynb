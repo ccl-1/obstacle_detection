{
 "cells": [
  {
   "cell_type": "markdown",
   "metadata": {},
   "source": [
    "### 多任务训练\n",
    "#### BDD100K"
   ]
  },
  {
   "cell_type": "code",
   "execution_count": null,
   "metadata": {},
   "outputs": [],
   "source": [
    "# 现在 都是 合并后得检测了，5cls\n",
    "# todo 分割忽略背景类别，看看精度 .. \n",
    "# todo 分割每一类精度，添加一个小接口... 不要背景类训练，现在3类，效果一般...\n",
    "python semantic/train.py  \\\n",
    "    --label_map bdd100k \\\n",
    "    --cfg ./models/semantic/yolov5s-seg-bdd100k.yaml \\\n",
    "    --data ./data/bdd100k-seg.yaml \\\n",
    "    --batch-size 16 --epochs 150 \\\n",
    "    --project runs/train-seg/bdd100k\n",
    "\n",
    "python semantic/val.py  \\\n",
    "    --weights runs/train-seg/bdd100k_raw/weights/best.pt  \\\n",
    "    --data ./data/bdd100k-seg.yaml \\\n",
    "    --label_map bdd100k "
   ]
  },
  {
   "attachments": {},
   "cell_type": "markdown",
   "metadata": {},
   "source": [
    "## merged BDD class 5 cls"
   ]
  },
  {
   "cell_type": "code",
   "execution_count": null,
   "metadata": {},
   "outputs": [],
   "source": [
    "python semantic/train.py  \\\n",
    "    --label_map bdd100k \\\n",
    "    --cfg ./models/semantic/yolov5s-seg-bdd100k.yaml \\\n",
    "    --data ./data/bdd100k-seg.yaml \\\n",
    "    --batch-size 16 --epochs 150 \\\n",
    "    --project runs/train-seg/bdd100k \\\n",
    "    --use_bdd100k_5 True"
   ]
  },
  {
   "cell_type": "markdown",
   "metadata": {},
   "source": [
    "#### obstacle "
   ]
  },
  {
   "cell_type": "code",
   "execution_count": null,
   "metadata": {},
   "outputs": [],
   "source": [
    "python semantic/train.py  \\\n",
    "    --cfg ./models/semantic/yolov5s-seg.yaml \\\n",
    "    --data ./data/obstacle.yaml \\\n",
    "    --batch-size 16 --epochs 50 \\\n",
    "    --project runs/train-seg/obstacle\n",
    "\n",
    "python semantic/train.py  \\\n",
    "    --weights runs/train/object-13/exp0/weights/best.pt \\\n",
    "    --cfg ./models/semantic/yolov5s-seg.yaml \\\n",
    "    --data ./data/obstacle.yaml \\\n",
    "    --batch-size 16 --epochs 50 \\\n",
    "    --project runs/train-seg/obstacle-tf"
   ]
  },
  {
   "attachments": {},
   "cell_type": "markdown",
   "metadata": {},
   "source": [
    "#### coco-128\n",
    "\n",
    "- TODO：  batch size bug .....  这个暂时有bug, 原因是标签不连续， 应该删除没有得标签，然后 标签 重新映射 ...\n",
    "\n",
    "0 是background， 真实类别为 80类\n",
    "\n",
    "Unique Pixels: [\n",
    "    \n",
    "     0,  1,  2,  3,  4,  5,  6,  7,  8,  9,     10,     12,     14, 15, 16, 17, 18, \n",
    "\n",
    "        21, 22, 23, 24, 25, 26, 27, 28, 29,     30, 31, 32, 33, 34, 35, 36, 37,     39, \n",
    "\n",
    "    40, 41, 42, 43, 44, 45, 46, 47,     49,     50, 51, 52, 53, 54, 55, 56, 57, 58, 59, \n",
    "\n",
    "    60, 61, 62, 63, 64, 65, 66,     68, 69,     70,     72, 73, 74, 75, 76, 77, 78,    80]\n",
    "    \n",
    " number of classes: 72\n",
    "\n",
    " lack class:  11, 13, 19, 20, 38, 48, 67, 71, 79, len=9\n",
    "\n",
    " 81-9= 72\n"
   ]
  },
  {
   "cell_type": "code",
   "execution_count": null,
   "metadata": {},
   "outputs": [],
   "source": [
    "python semantic/train.py  \\\n",
    "    --label_map coco128 \\\n",
    "    --cfg ./models/semantic/yolov5s-seg.yaml \\\n",
    "    --data ./data/coco128-seg.yaml \\\n",
    "    --batch-size 4 --epochs 50 \\\n",
    "    --project runs/train-seg coco128_/"
   ]
  },
  {
   "cell_type": "markdown",
   "metadata": {},
   "source": [
    "####  多任务网络，单任务训练 - 需要冻结 det/seg(不梯度回传)去进行单任务训练 "
   ]
  },
  {
   "cell_type": "markdown",
   "metadata": {},
   "source": [
    "##### BDD100K\n",
    "- detection only (freeze seg-layer 25)"
   ]
  },
  {
   "cell_type": "code",
   "execution_count": null,
   "metadata": {},
   "outputs": [],
   "source": [
    "python semantic/train.py \\\n",
    "    --label_map bdd100k \\\n",
    "    --cfg ./models/semantic/yolov5s-seg-bdd100k.yaml  \\\n",
    "    --data ./data/bdd100k-seg.yaml  \\\n",
    "    --batch-size 16 --epochs 50   \\\n",
    "    --project runs/train-seg/bdd100k_det_only \\\n",
    "    --train_mode det_only"
   ]
  },
  {
   "cell_type": "markdown",
   "metadata": {},
   "source": [
    "- segmentation only (freeze det-layer 24)  "
   ]
  },
  {
   "cell_type": "code",
   "execution_count": null,
   "metadata": {},
   "outputs": [],
   "source": [
    "python semantic/train.py \\\n",
    "    --label_map bdd100k \\\n",
    "    --cfg ./models/semantic/yolov5s-seg-bdd100k.yaml  \\\n",
    "    --data ./data/bdd100k-seg.yaml  \\\n",
    "    --batch-size 16 --epochs 50   \\\n",
    "    --project runs/train-seg/bdd100k_seg_only \\\n",
    "    --train_mode seg_only"
   ]
  },
  {
   "cell_type": "markdown",
   "metadata": {},
   "source": [
    "###  原始检测网络训练"
   ]
  },
  {
   "cell_type": "markdown",
   "metadata": {},
   "source": [
    "#### object-13"
   ]
  },
  {
   "cell_type": "code",
   "execution_count": null,
   "metadata": {},
   "outputs": [],
   "source": [
    "python train.py  --cfg ./models/yolov5s.yaml \\\n",
    "--data ./data/object-13.yaml \\\n",
    "--batch-size 16 --epochs 50 \\\n",
    "--project runs/train/object-13/"
   ]
  },
  {
   "cell_type": "markdown",
   "metadata": {},
   "source": [
    "# Transfer Learning\n",
    "- Troubleshooting:  dataload 需要重新配置。 目前版本必须是 det 和seg 都有才可以，\n",
    "- 需要修改为， 仅仅加载det 或者 seg 的数据， 需要继承原始 dataset，并override 初始化和 get iterm部分， \n",
    "- 设置默认没有找到对应的gt文件，就将其 gt label 设置为空，而不是 filter ....\n"
   ]
  },
  {
   "cell_type": "markdown",
   "metadata": {},
   "source": [
    "#### object-13"
   ]
  },
  {
   "cell_type": "code",
   "execution_count": null,
   "metadata": {},
   "outputs": [],
   "source": []
  },
  {
   "cell_type": "markdown",
   "metadata": {},
   "source": [
    "#### rs 19"
   ]
  },
  {
   "cell_type": "code",
   "execution_count": null,
   "metadata": {},
   "outputs": [],
   "source": []
  }
 ],
 "metadata": {
  "kernelspec": {
   "display_name": "base",
   "language": "python",
   "name": "python3"
  },
  "language_info": {
   "codemirror_mode": {
    "name": "ipython",
    "version": 3
   },
   "file_extension": ".py",
   "mimetype": "text/x-python",
   "name": "python",
   "nbconvert_exporter": "python",
   "pygments_lexer": "ipython3",
   "version": "3.10.8"
  },
  "orig_nbformat": 4
 },
 "nbformat": 4,
 "nbformat_minor": 2
}
