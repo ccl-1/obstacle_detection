{
 "cells": [
  {
   "attachments": {},
   "cell_type": "markdown",
   "metadata": {},
   "source": [
    "### 多任务训练\n",
    "#### BDD100K - Done!"
   ]
  },
  {
   "cell_type": "code",
   "execution_count": null,
   "metadata": {},
   "outputs": [],
   "source": [
    "python semantic/train.py  \\\n",
    "    --label_map bdd100k \\\n",
    "    --cfg ./models/semantic/yolov5s-seg-bdd100k.yaml \\\n",
    "    --data ./data/bdd100k-seg.yaml \\\n",
    "    --batch-size 16 --epochs 150 \\\n",
    "    --project runs/train-seg/bdd100k \\\n",
    "    --weights runs/train-seg/bdd100k/raw-10/weights/best.pt\n",
    "\n",
    "python semantic/val.py  \\\n",
    "    --weights runs/train-seg/bdd100k_raw/weights/best.pt  \\\n",
    "    --data ./data/bdd100k-seg.yaml \\\n",
    "    --label_map bdd100k "
   ]
  },
  {
   "attachments": {},
   "cell_type": "markdown",
   "metadata": {},
   "source": [
    "## merged BDD class 5 cls - Done!"
   ]
  },
  {
   "cell_type": "code",
   "execution_count": null,
   "metadata": {},
   "outputs": [],
   "source": [
    "python semantic/train.py  \\\n",
    "    --label_map bdd100k \\\n",
    "    --cfg ./models/semantic/yolov5s-seg-bdd100k.yaml \\\n",
    "    --data ./data/bdd100k-seg.yaml \\\n",
    "    --batch-size 16 --epochs 150 \\\n",
    "    --project runs/train-seg/bdd100k \\\n",
    "    --use_bdd100k_5 True \\\n",
    "    --weights runs/train-seg/bdd100k/raw-5/weights/best.pt"
   ]
  },
  {
   "attachments": {},
   "cell_type": "markdown",
   "metadata": {},
   "source": [
    "#### coco-128\n",
    "\n",
    "- TODO：  batch size bug .....  这个暂时有bug, 原因是标签不连续， 应该删除没有得标签，然后 标签 重新映射 ...\n",
    "\n",
    "0 是background， 真实类别为 80类\n",
    "\n",
    "Unique Pixels: [\n",
    "    \n",
    "     0,  1,  2,  3,  4,  5,  6,  7,  8,  9,     10,     12,     14, 15, 16, 17, 18, \n",
    "\n",
    "        21, 22, 23, 24, 25, 26, 27, 28, 29,     30, 31, 32, 33, 34, 35, 36, 37,     39, \n",
    "\n",
    "    40, 41, 42, 43, 44, 45, 46, 47,     49,     50, 51, 52, 53, 54, 55, 56, 57, 58, 59, \n",
    "\n",
    "    60, 61, 62, 63, 64, 65, 66,     68, 69,     70,     72, 73, 74, 75, 76, 77, 78,    80]\n",
    "    \n",
    " number of classes: 72\n",
    "\n",
    " lack class:  11, 13, 19, 20, 38, 48, 67, 71, 79, len=9\n",
    "\n",
    " 81-9= 72\n"
   ]
  },
  {
   "cell_type": "code",
   "execution_count": null,
   "metadata": {},
   "outputs": [],
   "source": [
    "python semantic/train.py  \\\n",
    "    --label_map coco128 \\\n",
    "    --cfg ./models/semantic/yolov5s-seg.yaml \\\n",
    "    --data ./data/coco128-seg.yaml \\\n",
    "    --batch-size 4 --epochs 50 \\\n",
    "    --project runs/train-seg coco128_/"
   ]
  },
  {
   "attachments": {},
   "cell_type": "markdown",
   "metadata": {},
   "source": []
  },
  {
   "attachments": {},
   "cell_type": "markdown",
   "metadata": {},
   "source": [
    "## BDD100K\n",
    "####  多任务网络，单任务训练 - 需要冻结 det/seg(不梯度回传)去进行单任务训练  Done!\n",
    "- detection only (freeze seg-layer 25)\n",
    "- segmentation only (freeze det-layer 24)  "
   ]
  },
  {
   "attachments": {},
   "cell_type": "markdown",
   "metadata": {},
   "source": [
    "### det-first  "
   ]
  },
  {
   "cell_type": "code",
   "execution_count": null,
   "metadata": {},
   "outputs": [],
   "source": [
    "python semantic/train.py \\\n",
    "    --label_map bdd100k \\\n",
    "    --cfg ./models/semantic/yolov5s-seg-bdd100k.yaml  \\\n",
    "    --data ./data/bdd100k-seg.yaml  \\\n",
    "    --batch-size 16 --epochs 150   \\\n",
    "    --use_bdd100k_5 True \\\n",
    "    --project runs/train-seg/bdd100k_det_only \\\n",
    "    --train_mode det_only\n",
    "\n",
    "python semantic/train.py \\\n",
    "    --label_map bdd100k \\\n",
    "    --cfg ./models/semantic/yolov5s-seg-bdd100k.yaml  \\\n",
    "    --data ./data/bdd100k-seg.yaml  \\\n",
    "    --batch-size 16 --epochs 100   \\\n",
    "    --project runs/train-seg/bdd100k_det_first \\\n",
    "    --use_bdd100k_5 True \\\n",
    "    --weights runs/train-seg/bdd100k_det_only/exp/weights/best.pt\n",
    "\n",
    "python semantic/train.py \\\n",
    "    --label_map bdd100k \\\n",
    "    --cfg ./models/semantic/yolov5s-seg-bdd100k.yaml  \\\n",
    "    --data ./data/bdd100k-seg.yaml  \\\n",
    "    --batch-size 16 --epochs 50   \\\n",
    "    --project runs/train-seg/bdd100k_det_first \\\n",
    "    --use_bdd100k_5 True \\\n",
    "    --weights runs/train-seg/bdd100k_det_first/exp/weights/last.pt\n",
    "\n",
    "\n",
    "python semantic/val.py  \\\n",
    "    --weights runs/train-seg/bdd100k_det_first/exp/weights/best.pt \\\n",
    "    --cfg ./models/semantic/yolov5s-seg-bdd100k.yaml  \\\n",
    "    --data ./data/bdd100k-seg.yaml  \\\n",
    "    --label_map bdd100k --use_bdd100k_5 True \n"
   ]
  },
  {
   "attachments": {},
   "cell_type": "markdown",
   "metadata": {},
   "source": [
    "### seg-first"
   ]
  },
  {
   "cell_type": "code",
   "execution_count": null,
   "metadata": {},
   "outputs": [],
   "source": [
    "python semantic/train.py \\\n",
    "    --label_map bdd100k \\\n",
    "    --cfg ./models/semantic/yolov5s-seg-bdd100k.yaml  \\\n",
    "    --data ./data/bdd100k-seg.yaml  \\\n",
    "    --batch-size 16 --epochs 150   \\\n",
    "    --use_bdd100k_5 True \\\n",
    "    --project runs/train-seg/bdd100k_seg_only \\\n",
    "    --train_mode seg_only\n",
    "\n",
    "\n",
    "python semantic/train.py \\\n",
    "    --label_map bdd100k \\\n",
    "    --cfg ./models/semantic/yolov5s-seg-bdd100k.yaml  \\\n",
    "    --data ./data/bdd100k-seg.yaml  \\\n",
    "    --batch-size 16 --epochs 100   \\\n",
    "    --project runs/train-seg/bdd100k_seg_first \\\n",
    "    --use_bdd100k_5 True \\\n",
    "    --weights runs/train-seg/bdd100k_seg_only/exp/weights/last.pt\n",
    "\n"
   ]
  },
  {
   "cell_type": "markdown",
   "metadata": {},
   "source": [
    "###  原始检测网络训练"
   ]
  },
  {
   "attachments": {},
   "cell_type": "markdown",
   "metadata": {},
   "source": [
    "### ROD"
   ]
  },
  {
   "cell_type": "code",
   "execution_count": null,
   "metadata": {},
   "outputs": [],
   "source": [
    "python semantic/train.py  \\\n",
    "    --cfg ./models/semantic/yolov5s-seg.yaml \\\n",
    "    --data ./data/obstacle.yaml \\\n",
    "    --batch-size 8 --epochs 150 \\\n",
    "    --project runs/train-seg/obstacle \\\n"
   ]
  },
  {
   "attachments": {},
   "cell_type": "markdown",
   "metadata": {},
   "source": [
    "### object-13"
   ]
  },
  {
   "cell_type": "code",
   "execution_count": null,
   "metadata": {},
   "outputs": [],
   "source": [
    "python train.py  --cfg ./models/yolov5s.yaml \\\n",
    "--data ./data/object-13.yaml \\\n",
    "--batch-size 16 --epochs 150 \\\n",
    "--project runs/train/object-13/"
   ]
  },
  {
   "attachments": {},
   "cell_type": "markdown",
   "metadata": {},
   "source": [
    "# Transfer Learning\n",
    "\n",
    "- TODO 5.10 training task"
   ]
  },
  {
   "cell_type": "markdown",
   "metadata": {},
   "source": [
    "#### object-13"
   ]
  },
  {
   "cell_type": "code",
   "execution_count": null,
   "metadata": {},
   "outputs": [],
   "source": [
    "python semantic/train.py  \\\n",
    "    --cfg ./models/semantic/yolov5s-seg-object.yaml \\\n",
    "    --data ./data/object-13.yaml \\\n",
    "    --batch-size 8 --epochs 150 \\\n",
    "    --project runs/train-seg/object \\\n",
    "    --label_map object \\\n",
    "    --data_mode det \\\n",
    "    --train_mode det_only"
   ]
  },
  {
   "attachments": {},
   "cell_type": "markdown",
   "metadata": {},
   "source": [
    "#### Object-13->ROD "
   ]
  },
  {
   "cell_type": "code",
   "execution_count": null,
   "metadata": {},
   "outputs": [],
   "source": [
    "# 加载预训练模型，然后一起训练 ...\n",
    "python semantic/train.py  \\\n",
    "    --cfg ./models/semantic/yolov5s-seg.yaml \\\n",
    "    --data ./data/obstacle.yaml \\\n",
    "    --batch-size 8 --epochs 100 \\\n",
    "    --project runs/train-seg/transfer \\\n",
    "    --label_map obstacle \\\n",
    "    --weights runs/train-seg/object/raw/weights/last.pt\n"
   ]
  },
  {
   "cell_type": "markdown",
   "metadata": {},
   "source": [
    "#### rs 19"
   ]
  },
  {
   "cell_type": "code",
   "execution_count": null,
   "metadata": {},
   "outputs": [],
   "source": [
    "python semantic/train.py  \\\n",
    "    --cfg ./models/semantic/yolov5s-seg-rs19.yaml\\\n",
    "    --data ./data/rs19.yaml \\\n",
    "    --batch-size 8 --epochs 50    \\\n",
    "    --project runs/train-seg/rs19  \\\n",
    "    --label_map rs19 \\\n",
    "    --data_mode seg \\\n",
    "    --train_mode seg_only\n",
    "\n",
    "\n",
    "# RS/RS\n",
    "python semantic/val.py  \\\n",
    "    --weights runs/train-seg/rs19/exp/weights/last.pt  \\\n",
    "    --data ./data/rs19.yaml \\\n",
    "    --label_map rs19 \\\n",
    "    --data_mode seg \n",
    "\n",
    "# RS/ROD  VAL DET MAP BUG...\n",
    "python semantic/val.py  \\\n",
    "    --weights runs/train-seg/rs19/exp/weights/last.pt  \\\n",
    "    --data ./data/obstacle.yaml \\\n",
    "    --label_map obstacle \\\n",
    "    --data_mode seg "
   ]
  },
  {
   "cell_type": "markdown",
   "metadata": {},
   "source": [
    "#### RS19->ROD"
   ]
  },
  {
   "cell_type": "code",
   "execution_count": null,
   "metadata": {},
   "outputs": [],
   "source": [
    "python semantic/train.py  \\\n",
    "    --cfg ./models/semantic/yolov5s-seg.yaml \\\n",
    "    --data ./data/obstacle.yaml \\\n",
    "    --batch-size 8 --epochs 100 \\\n",
    "    --project runs/train-seg/transfer \\\n",
    "    --label_map obstacle \\\n",
    "    --weights runs/train-seg/rs19/raw/weights/last.pt\n",
    "\n",
    "python semantic/val.py  \\\n",
    "    --weights runs/train-seg/obstacle/exp/weights/best.pt  \\\n",
    "    --data ./data/obstacle.yaml \\\n",
    "    --label_map obstacle \n"
   ]
  },
  {
   "attachments": {},
   "cell_type": "markdown",
   "metadata": {},
   "source": [
    "#### RS19/object-13->ROD"
   ]
  },
  {
   "cell_type": "code",
   "execution_count": null,
   "metadata": {},
   "outputs": [],
   "source": []
  },
  {
   "cell_type": "code",
   "execution_count": null,
   "metadata": {},
   "outputs": [],
   "source": [
    "# ROD  TODO 更新 .. Tab.1\n",
    "# train\n",
    "[('Fallen Trees', 12), ('Stone', 79), ('broken tracks', 1), ('car', 6), ('cow', 97), ('deer', 14), ('elephant', 8), ('excavator', 6), ('flood', 22), ('goat', 35), \n",
    " ('human', 330), ('landslide', 17), ('lion', 6), ('monkey', 2), ('peacock', 11), ('tiger', 3)]\n",
    "\n",
    "# val\n",
    "[('Fallen Trees', 6), ('Stone', 54), ('broken tracks', 1), ('car', 7), ('cow', 21), ('deer', 2), ('elephant', 6), ('excavator', 3), ('flood', 14), ('goat', 29), \n",
    " ('human', 112), ('landslide', 7), ('lion', 7), ('monkey', 3), ('peacock', 8), ('tiger', 4)]\n",
    "\n",
    "\n",
    "# object-13\n",
    "#train\n",
    "[('Fallen Trees', 178), ('broken tracks', 13), ('car', 148), ('cow', 68), ('deer', 47), ('elephant', 111), ('excavator', 22), ('goat', 111), \n",
    " ('landslide', 79), ('lion', 41), ('monkey', 51), ('peacock', 28), ('tiger', 46)]\n",
    "#val\n",
    "[('Fallen Trees', 47), ('broken tracks', 3), ('car', 68), ('cow', 22), ('deer', 9), ('elephant', 22), ('excavator', 27), ('goat', 44), \n",
    " ('landslide', 33), ('lion', 10), ('monkey', 26), ('peacock', 9), ('tiger', 11)]"
   ]
  }
 ],
 "metadata": {
  "kernelspec": {
   "display_name": "base",
   "language": "python",
   "name": "python3"
  },
  "language_info": {
   "codemirror_mode": {
    "name": "ipython",
    "version": 3
   },
   "file_extension": ".py",
   "mimetype": "text/x-python",
   "name": "python",
   "nbconvert_exporter": "python",
   "pygments_lexer": "ipython3",
   "version": "3.9.18"
  },
  "orig_nbformat": 4
 },
 "nbformat": 4,
 "nbformat_minor": 2
}
